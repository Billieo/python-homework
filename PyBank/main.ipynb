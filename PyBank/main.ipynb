{
 "cells": [
  {
   "cell_type": "code",
   "execution_count": 6,
   "metadata": {},
   "outputs": [],
   "source": [
    "from pathlib import Path"
   ]
  },
  {
   "cell_type": "code",
   "execution_count": 9,
   "metadata": {},
   "outputs": [],
   "source": [
    "import csv"
   ]
  },
  {
   "cell_type": "code",
   "execution_count": 36,
   "metadata": {},
   "outputs": [
    {
     "output_type": "stream",
     "name": "stdout",
     "text": [
      "86\n38382578\n867884\n38382578\n446309.05\n"
     ]
    }
   ],
   "source": [
    "csvpath = Path(\"Resources/budget_data.csv\")\n",
    "with open(csvpath, \"r\") as csvfile:\n",
    "    csvreader = csv.reader(csvfile, delimiter=\",\")\n",
    "    next(csvreader)\n",
    "    Date = []\n",
    "    profit_loss = []\n",
    "\n",
    "    Total = 0\n",
    "    Total_months = 0\n",
    "    min_Total = 0\n",
    "    max_Total = 0\n",
    "    avg_Total = 0\n",
    "    profit_loss = 0\n",
    "    average_change = 0\n",
    "    Greatest_Profits = 0\n",
    "    Decrease_Profits = 0\n",
    "\n",
    "    for row in csvreader:\n",
    "        # print(row)\n",
    "        Total += int(row[1])\n",
    "        Total_months += 1\n",
    "\n",
    "        if min_Total == 0:\n",
    "            min_Total = Total\n",
    "        elif Total > max_Total:\n",
    "            max_Total = Total\n",
    "        elif Total <min_Total:\n",
    "            min_Total = Total\n",
    "\n",
    "        avg_Total = round(Total / Total_months, 2)\n",
    "\n",
    "    print(Total_months)\n",
    "    print(Total)\n",
    "    print(min_Total)\n",
    "    print(max_Total)\n",
    "    print(avg_change)\n"
   ]
  },
  {
   "cell_type": "code",
   "execution_count": 37,
   "metadata": {},
   "outputs": [
    {
     "output_type": "stream",
     "name": "stdout",
     "text": [
      "38382578 867884 446309.05\n"
     ]
    }
   ],
   "source": [
    "\n",
    "print(max_Total, min_Total, avg_Total)"
   ]
  },
  {
   "cell_type": "code",
   "execution_count": 38,
   "metadata": {},
   "outputs": [],
   "source": [
    "profit_loss += int(row[1])\n",
    "                                       \n",
    "                             "
   ]
  },
  {
   "cell_type": "code",
   "execution_count": null,
   "metadata": {},
   "outputs": [],
   "source": []
  }
 ],
 "metadata": {
  "kernelspec": {
   "display_name": "Python 3",
   "language": "python",
   "name": "python3"
  },
  "language_info": {
   "codemirror_mode": {
    "name": "ipython",
    "version": 3
   },
   "file_extension": ".py",
   "mimetype": "text/x-python",
   "name": "python",
   "nbconvert_exporter": "python",
   "pygments_lexer": "ipython3",
   "version": "3.8.5-final"
  }
 },
 "nbformat": 4,
 "nbformat_minor": 4
}