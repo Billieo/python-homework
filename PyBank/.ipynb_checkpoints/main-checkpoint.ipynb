{
 "cells": [
  {
   "cell_type": "code",
   "execution_count": 11,
   "metadata": {},
   "outputs": [],
   "source": [
    "from pathlib import Path"
   ]
  },
  {
   "cell_type": "code",
   "execution_count": 12,
   "metadata": {},
   "outputs": [],
   "source": [
    "import csv"
   ]
  },
  {
   "cell_type": "code",
   "execution_count": 107,
   "metadata": {},
   "outputs": [
    {
     "name": "stdout",
     "output_type": "stream",
     "text": [
      "Total Months: 86\n",
      "Total: $38382578\n",
      "Average  Change: $-2315\n",
      "Greatest Increase in Profits: Feb-2012 ($1926159)\n",
      "Greatest Decrease in Profits: Sep-2013 ($-2196167)\n"
     ]
    }
   ],
   "source": [
    "csvpath = Path(\"Resources/budget_data.csv\")\n",
    "with open(csvpath, \"r\") as csvfile:\n",
    "    csvreader = csv.reader(csvfile, delimiter=\",\")\n",
    "    next(csvreader)\n",
    "    Date = []\n",
    "    Amount = []    # create an empty list to store profit/lost\n",
    "    change = []\n",
    "\n",
    "    Total = 0\n",
    "    Count = 0\n",
    "    min_Total = 0\n",
    "    max_Total = 0\n",
    "    avg_Total = 0\n",
    "    profit_loss = 0\n",
    "    average_change = 0\n",
    "    Greatest_Profits = 0\n",
    "    Decrease_Profits = 0\n",
    "    \n",
    "    test_min = 0\n",
    "    test_max = 0\n",
    "\n",
    "    for row in csvreader:\n",
    "        Total += int(row[1])\n",
    "        Amount.append(int(row[1]))     # append current row value to list.\n",
    "        \n",
    "        if Count == 0:      # This is to initiate starting values for minimum and maximum\n",
    "            test_min = int(row[1])\n",
    "            test_max = int(row[1])\n",
    "            initial = int(row[1])\n",
    "        else:\n",
    "            if test_min > int(row[1]):      # if there is new minimum, replace the current value\n",
    "                test_min = int(row[1])\n",
    "            if test_max < int(row[1]):      # if there is new maximum, replace the current value\n",
    "                test_max = int(row[1])\n",
    "                \n",
    "            difference = int(row[1]) - initial\n",
    "            change.append(difference)\n",
    "            initial = int(row[1])\n",
    "            Date.append(row[0])\n",
    "            \n",
    "            \n",
    "        Count += 1     # increment count by one.\n",
    "   \n",
    "        \n",
    "    \n",
    "avg_Total = round(Total / Count, 2)\n",
    "\n",
    "# Formula for Average change\n",
    "start_point = Amount[0]\n",
    "end_point = Amount[-1]\n",
    "countOf_change = len(Amount) - 1\n",
    "average_change = round((end_point - start_point) / countOf_change)\n",
    "\n",
    "# To find max and min change\n",
    "min_change = min(change)\n",
    "max_change = max(change)\n",
    "\n",
    "# Index to find the index of changes\n",
    "min_index = change.index(min_change)\n",
    "max_index = change.index(max_change)\n",
    "\n",
    "# To find date of changes using indexes from 'change'\n",
    "min_date = Date[min_index]\n",
    "max_date = Date[max_index]\n",
    "\n",
    "\n",
    "#  Greatest Increase in Profits: Feb-2012 ($1926159)\n",
    "print(\"Total Months: \" + str(Count))\n",
    "print(\"Total: $\" + str(Total))\n",
    "print(\"Average  Change: $\" + str(average_change))    \n",
    "print('Greatest Increase in Profits: ' + max_date + ' ($' + str(max(change)) + ')')\n",
    "print('Greatest Decrease in Profits: ' + min_date + ' ($' + str(min(change)) + ')')"
   ]
  },
  {
   "cell_type": "code",
   "execution_count": 93,
   "metadata": {},
   "outputs": [
    {
     "name": "stdout",
     "output_type": "stream",
     "text": [
      "85 43 43\n"
     ]
    }
   ],
   "source": [
    "print(len(Date)), min_index"
   ]
  },
  {
   "cell_type": "code",
   "execution_count": 33,
   "metadata": {},
   "outputs": [
    {
     "name": "stdout",
     "output_type": "stream",
     "text": [
      "-1196225 1170593 38382578\n"
     ]
    }
   ],
   "source": [
    "print(min(Amount), max(Amount), sum(Amount))"
   ]
  },
  {
   "cell_type": "code",
   "execution_count": 41,
   "metadata": {},
   "outputs": [
    {
     "data": {
      "text/plain": [
       "86"
      ]
     },
     "execution_count": 41,
     "metadata": {},
     "output_type": "execute_result"
    }
   ],
   "source": [
    "Count"
   ]
  },
  {
   "cell_type": "code",
   "execution_count": 58,
   "metadata": {},
   "outputs": [
    {
     "name": "stdout",
     "output_type": "stream",
     "text": [
      "[867884, 984655, 322013, -69417, 310503, 522857, 1033096, 604885, -216386, 477532, 893810, -80353, 779806, -335203, 697845, 793163, 485070, 584122, 62729, 668179, 899906, 834719, 132003, 309978, -755566, 1170593, 252788, 1151518, 817256, 570757, 506702, -1022534, 475062, 779976, 144175, 542494, 359333, 321469, 67780, 471435, 565603, 872480, 789480, 999942, -1196225, 268997, -687986, 1150461, 682458, 617856, 824098, 581943, 132864, 448062, 689161, 800701, 1166643, 947333, 578668, 988505, 1139715, 1029471, 687533, -524626, 158620, 87795, 423389, 840723, 568529, 332067, 989499, 778237, 650000, -1100387, -174946, 757143, 445709, 712961, -1163797, 569899, 768450, 102685, 795914, 60988, 138230, 671099]\n"
     ]
    }
   ],
   "source": [
    "print(Amount)"
   ]
  },
  {
   "cell_type": "code",
   "execution_count": 60,
   "metadata": {},
   "outputs": [
    {
     "name": "stdout",
     "output_type": "stream",
     "text": [
      "[116771, -545871, -937301, -557381, -345027, 165212, -262999, -1084270, -390352, 25926, -948237, -88078, -1203087, -170039, -74721, -382814, -283762, -805155, -199705, 32022, -33165, -735881, -557906, -1623450, 302709, -615096, 283634, -50628, -297127, -361182, -1890418, -392822, -87908, -723709, -325390, -508551, -546415, -800104, -396449, -302281, 4596, -78404, 132058, -2064109, -598887, -1555870, 282577, -185426, -250028, -43786, -285941, -735020, -419822, -178723, -67183, 298759, 79449, -289216, 120621, 271831, 161587, -180351, -1392510, -709264, -780089, -444495, -27161, -299355, -535817, 121615, -89647, -217884, -1968271, -1042830, -110741, -422175, -154923, -2031681, -297985, -99434, -765199, -71970, -806896, -729654, -196785]\n"
     ]
    }
   ],
   "source": [
    "print(change)"
   ]
  },
  {
   "cell_type": "code",
   "execution_count": 69,
   "metadata": {},
   "outputs": [
    {
     "name": "stdout",
     "output_type": "stream",
     "text": [
      "['Feb-2010', 'Mar-2010', 'Apr-2010', 'May-2010', 'Jun-2010', 'Jul-2010', 'Aug-2010', 'Sep-2010', 'Oct-2010', 'Nov-2010', 'Dec-2010', 'Jan-2011', 'Feb-2011', 'Mar-2011', 'Apr-2011', 'May-2011', 'Jun-2011', 'Jul-2011', 'Aug-2011', 'Sep-2011', 'Oct-2011', 'Nov-2011', 'Dec-2011', 'Jan-2012', 'Feb-2012', 'Mar-2012', 'Apr-2012', 'May-2012', 'Jun-2012', 'Jul-2012', 'Aug-2012', 'Sep-2012', 'Oct-2012', 'Nov-2012', 'Dec-2012', 'Jan-2013', 'Feb-2013', 'Mar-2013', 'Apr-2013', 'May-2013', 'Jun-2013', 'Jul-2013', 'Aug-2013', 'Sep-2013', 'Oct-2013', 'Nov-2013', 'Dec-2013', 'Jan-2014', 'Feb-2014', 'Mar-2014', 'Apr-2014', 'May-2014', 'Jun-2014', 'Jul-2014', 'Aug-2014', 'Sep-2014', 'Oct-2014', 'Nov-2014', 'Dec-2014', 'Jan-2015', 'Feb-2015', 'Mar-2015', 'Apr-2015', 'May-2015', 'Jun-2015', 'Jul-2015', 'Aug-2015', 'Sep-2015', 'Oct-2015', 'Nov-2015', 'Dec-2015', 'Jan-2016', 'Feb-2016', 'Mar-2016', 'Apr-2016', 'May-2016', 'Jun-2016', 'Jul-2016', 'Aug-2016', 'Sep-2016', 'Oct-2016', 'Nov-2016', 'Dec-2016', 'Jan-2017', 'Feb-2017']\n"
     ]
    }
   ],
   "source": [
    "print(Date)"
   ]
  },
  {
   "cell_type": "code",
   "execution_count": 76,
   "metadata": {},
   "outputs": [
    {
     "name": "stdout",
     "output_type": "stream",
     "text": [
      "-2196167 1926159\n"
     ]
    }
   ],
   "source": [
    "print(min(change), max(change))"
   ]
  },
  {
   "cell_type": "code",
   "execution_count": 94,
   "metadata": {},
   "outputs": [
    {
     "data": {
      "text/plain": [
       "24"
      ]
     },
     "execution_count": 94,
     "metadata": {},
     "output_type": "execute_result"
    }
   ],
   "source": [
    "change.index(max(change))"
   ]
  },
  {
   "cell_type": "code",
   "execution_count": 79,
   "metadata": {},
   "outputs": [
    {
     "name": "stdout",
     "output_type": "stream",
     "text": [
      "Date of maximun change: Sep-2013\n"
     ]
    }
   ],
   "source": [
    "print('Date of maximun change: ' + Date[43])"
   ]
  }
 ],
 "metadata": {
  "kernelspec": {
   "display_name": "Python 3",
   "language": "python",
   "name": "python3"
  },
  "language_info": {
   "codemirror_mode": {
    "name": "ipython",
    "version": 3
   },
   "file_extension": ".py",
   "mimetype": "text/x-python",
   "name": "python",
   "nbconvert_exporter": "python",
   "pygments_lexer": "ipython3",
   "version": "3.8.5"
  }
 },
 "nbformat": 4,
 "nbformat_minor": 4
}
