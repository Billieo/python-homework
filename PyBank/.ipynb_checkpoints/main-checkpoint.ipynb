{
 "cells": [
  {
   "cell_type": "code",
   "execution_count": 2,
   "metadata": {},
   "outputs": [],
   "source": [
    "from pathlib import Path"
   ]
  },
  {
   "cell_type": "code",
   "execution_count": 3,
   "metadata": {},
   "outputs": [],
   "source": [
    "import csv"
   ]
  },
  {
   "cell_type": "code",
   "execution_count": 10,
   "metadata": {},
   "outputs": [
    {
     "name": "stdout",
     "output_type": "stream",
     "text": [
      "86\n",
      "38382578\n",
      "867884\n",
      "38382578\n",
      "446309.05\n"
     ]
    }
   ],
   "source": [
    "csvpath = Path(\"Resources/budget_data.csv\")\n",
    "with open(csvpath, \"r\") as csvfile:\n",
    "    csvreader = csv.reader(csvfile, delimiter=\",\")\n",
    "    next(csvreader)\n",
    "    Total = 0\n",
    "    Total_months = 0\n",
    "    min_Total = 0\n",
    "    max_Total = 0\n",
    "    average_change = 0\n",
    "    Greatest_Profits = 0\n",
    "    Decrease_Profits = 0\n",
    "\n",
    "    for row in csvreader:\n",
    "        # print(row)\n",
    "        Total += int(row[1])\n",
    "        Total_months += 1\n",
    "\n",
    "        if min_Total == 0:\n",
    "            min_Total = Total\n",
    "        elif Total > max_Total:\n",
    "            max_Total = Total\n",
    "        elif Total <min_Total:\n",
    "            min_Total = Total\n",
    "\n",
    "        avg_change = round(Total / Total_months, 2)\n",
    "\n",
    "    print(Total_months)\n",
    "    print(Total)\n",
    "    print(min_Total)\n",
    "    print(max_Total)\n",
    "    print(avg_change)\n",
    "   "
   ]
  },
  {
   "cell_type": "code",
   "execution_count": null,
   "metadata": {},
   "outputs": [],
   "source": []
  }
 ],
 "metadata": {
  "kernelspec": {
   "display_name": "Python 3",
   "language": "python",
   "name": "python3"
  },
  "language_info": {
   "codemirror_mode": {
    "name": "ipython",
    "version": 3
   },
   "file_extension": ".py",
   "mimetype": "text/x-python",
   "name": "python",
   "nbconvert_exporter": "python",
   "pygments_lexer": "ipython3",
   "version": "3.8.5"
  }
 },
 "nbformat": 4,
 "nbformat_minor": 4
}